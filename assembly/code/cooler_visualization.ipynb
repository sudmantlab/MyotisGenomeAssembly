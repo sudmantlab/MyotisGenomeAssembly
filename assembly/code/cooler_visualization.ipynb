{
 "cells": [
  {
   "cell_type": "code",
   "execution_count": 1,
   "metadata": {},
   "outputs": [],
   "source": [
    "##### import standard python libraries\n",
    "import numpy as np\n",
    "import matplotlib.pyplot as plt\n",
    "import seaborn as sns\n",
    "import pandas as pd\n",
    "import os"
   ]
  },
  {
   "cell_type": "code",
   "execution_count": 2,
   "metadata": {},
   "outputs": [],
   "source": [
    "import cooltools\n",
    "import cooler"
   ]
  },
  {
   "cell_type": "code",
   "execution_count": 3,
   "metadata": {},
   "outputs": [],
   "source": [
    "cool_file = \"output/cooler/M_californicus/minPasses3_minRQ0.99/l2/M_californicus.p_ctg.hic_scaffolds_final.matrix_1-kb.mcool.old\""
   ]
  },
  {
   "cell_type": "code",
   "execution_count": 4,
   "metadata": {},
   "outputs": [
    {
     "data": {
      "text/plain": [
       "['/resolutions/1000',\n",
       " '/resolutions/2000',\n",
       " '/resolutions/4000',\n",
       " '/resolutions/8000',\n",
       " '/resolutions/16000',\n",
       " '/resolutions/32000',\n",
       " '/resolutions/64000',\n",
       " '/resolutions/128000',\n",
       " '/resolutions/256000',\n",
       " '/resolutions/512000',\n",
       " '/resolutions/1024000',\n",
       " '/resolutions/2048000',\n",
       " '/resolutions/4096000']"
      ]
     },
     "execution_count": 4,
     "metadata": {},
     "output_type": "execute_result"
    }
   ],
   "source": [
    "cooler.fileops.list_coolers(cool_file)"
   ]
  },
  {
   "cell_type": "code",
   "execution_count": 5,
   "metadata": {},
   "outputs": [],
   "source": [
    "clr = cooler.Cooler(cool_file + '::resolutions/16000')"
   ]
  },
  {
   "cell_type": "code",
   "execution_count": 6,
   "metadata": {},
   "outputs": [
    {
     "data": {
      "text/plain": [
       "16000"
      ]
     },
     "execution_count": 6,
     "metadata": {},
     "output_type": "execute_result"
    }
   ],
   "source": [
    "clr.binsize"
   ]
  },
  {
   "cell_type": "code",
   "execution_count": 7,
   "metadata": {},
   "outputs": [
    {
     "name": "stdout",
     "output_type": "stream",
     "text": [
      "scaffold_1 : (0, 14591)\n",
      "scaffold_2 : (14591, 28192)\n",
      "scaffold_3 : (28192, 41779)\n",
      "scaffold_4 : (41779, 49667)\n",
      "scaffold_5 : (49667, 56829)\n",
      "scaffold_6 : (56829, 63711)\n",
      "scaffold_7 : (63711, 70032)\n",
      "scaffold_8 : (70032, 75939)\n",
      "scaffold_9 : (75939, 81825)\n",
      "scaffold_10 : (81825, 87217)\n",
      "scaffold_11 : (87217, 92578)\n",
      "scaffold_12 : (92578, 97717)\n",
      "scaffold_13 : (97717, 102111)\n",
      "scaffold_14 : (102111, 106085)\n",
      "scaffold_15 : (106085, 109800)\n",
      "scaffold_16 : (109800, 113484)\n",
      "scaffold_17 : (113484, 116956)\n",
      "scaffold_18 : (116956, 120323)\n",
      "scaffold_19 : (120323, 123134)\n",
      "scaffold_20 : (123134, 125020)\n",
      "scaffold_21 : (125020, 126138)\n",
      "scaffold_22 : (126138, 126874)\n",
      "scaffold_23 : (126874, 127315)\n",
      "scaffold_24 : (127315, 127740)\n",
      "scaffold_25 : (127740, 127887)\n",
      "scaffold_26 : (127887, 128029)\n",
      "scaffold_27 : (128029, 128156)\n",
      "scaffold_28 : (128156, 128279)\n",
      "scaffold_29 : (128279, 128399)\n",
      "scaffold_30 : (128399, 128518)\n",
      "scaffold_31 : (128518, 128589)\n",
      "scaffold_32 : (128589, 128657)\n",
      "scaffold_33 : (128657, 128716)\n",
      "scaffold_34 : (128716, 128769)\n",
      "scaffold_35 : (128769, 128815)\n",
      "scaffold_36 : (128815, 128855)\n",
      "scaffold_37 : (128855, 128892)\n",
      "scaffold_38 : (128892, 128925)\n",
      "scaffold_39 : (128925, 128958)\n",
      "scaffold_40 : (128958, 128987)\n",
      "scaffold_41 : (128987, 129015)\n",
      "scaffold_42 : (129015, 129039)\n",
      "scaffold_43 : (129039, 129061)\n",
      "scaffold_44 : (129061, 129082)\n",
      "scaffold_45 : (129082, 129102)\n",
      "scaffold_46 : (129102, 129118)\n",
      "scaffold_47 : (129118, 129134)\n",
      "scaffold_48 : (129134, 129149)\n",
      "scaffold_49 : (129149, 129164)\n",
      "scaffold_50 : (129164, 129178)\n",
      "scaffold_51 : (129178, 129189)\n",
      "scaffold_52 : (129189, 129200)\n",
      "scaffold_53 : (129200, 129211)\n",
      "scaffold_54 : (129211, 129222)\n",
      "scaffold_55 : (129222, 129232)\n",
      "scaffold_56 : (129232, 129242)\n",
      "scaffold_57 : (129242, 129251)\n",
      "scaffold_58 : (129251, 129260)\n",
      "scaffold_59 : (129260, 129269)\n",
      "scaffold_60 : (129269, 129277)\n",
      "scaffold_61 : (129277, 129285)\n",
      "scaffold_62 : (129285, 129292)\n",
      "scaffold_63 : (129292, 129299)\n",
      "scaffold_64 : (129299, 129306)\n",
      "scaffold_65 : (129306, 129312)\n",
      "scaffold_66 : (129312, 129318)\n",
      "scaffold_67 : (129318, 129324)\n",
      "scaffold_68 : (129324, 129330)\n",
      "scaffold_69 : (129330, 129336)\n",
      "scaffold_70 : (129336, 129341)\n",
      "scaffold_71 : (129341, 129346)\n",
      "scaffold_72 : (129346, 129351)\n",
      "scaffold_73 : (129351, 129356)\n",
      "scaffold_74 : (129356, 129361)\n",
      "scaffold_75 : (129361, 129366)\n",
      "scaffold_76 : (129366, 129370)\n",
      "scaffold_77 : (129370, 129374)\n",
      "scaffold_78 : (129374, 129378)\n",
      "scaffold_79 : (129378, 129382)\n",
      "scaffold_80 : (129382, 129386)\n",
      "scaffold_81 : (129386, 129390)\n",
      "scaffold_82 : (129390, 129394)\n",
      "scaffold_83 : (129394, 129398)\n",
      "scaffold_84 : (129398, 129402)\n",
      "scaffold_85 : (129402, 129406)\n",
      "scaffold_86 : (129406, 129409)\n",
      "scaffold_87 : (129409, 129412)\n",
      "scaffold_88 : (129412, 129415)\n",
      "scaffold_89 : (129415, 129418)\n",
      "scaffold_90 : (129418, 129421)\n",
      "scaffold_91 : (129421, 129424)\n",
      "scaffold_92 : (129424, 129426)\n",
      "scaffold_93 : (129426, 129428)\n",
      "scaffold_94 : (129428, 129430)\n",
      "scaffold_95 : (129430, 129432)\n",
      "scaffold_96 : (129432, 129434)\n",
      "scaffold_97 : (129434, 129436)\n",
      "scaffold_98 : (129436, 129438)\n",
      "scaffold_99 : (129438, 129440)\n",
      "scaffold_100 : (129440, 129442)\n",
      "scaffold_101 : (129442, 129444)\n",
      "scaffold_102 : (129444, 129446)\n",
      "scaffold_103 : (129446, 129448)\n",
      "scaffold_104 : (129448, 129450)\n",
      "scaffold_105 : (129450, 129452)\n",
      "scaffold_106 : (129452, 129453)\n",
      "scaffold_107 : (129453, 129454)\n",
      "scaffold_108 : (129454, 129455)\n"
     ]
    }
   ],
   "source": [
    "chromstarts = []\n",
    "for i in clr.chromnames:\n",
    "    print(f'{i} : {clr.extent(i)}')\n",
    "    chromstarts.append(clr.extent(i)[0])"
   ]
  },
  {
   "cell_type": "code",
   "execution_count": 9,
   "metadata": {},
   "outputs": [
    {
     "data": {
      "image/png": "[encoded data removed]",
      "text/plain": [
       "<Figure size 504x432 with 2 Axes>"
      ]
     },
     "metadata": {
      "needs_background": "light"
     },
     "output_type": "display_data"
    }
   ],
   "source": [
    "f, ax = plt.subplots(\n",
    "    figsize=(7,6))\n",
    "im = ax.matshow((clr.matrix(balance=False)[:]),vmax=500);\n",
    "plt.colorbar(im ,fraction=0.046, pad=0.04, label='raw counts')\n",
    "ax.set(xticks=chromstarts, xticklabels=clr.chromnames,\n",
    "       xlabel='position, chrom#', ylabel='position, bin#')\n",
    "ax.xaxis.set_label_position('top')"
   ]
  },
  {
   "cell_type": "code",
   "execution_count": 15,
   "metadata": {},
   "outputs": [
    {
     "name": "stderr",
     "output_type": "stream",
     "text": [
      "/global/scratch2/mvazquez/projects/BatGenomeAssembly/.snakemake/conda/4f33ca78/lib/python3.6/site-packages/cooler/balance.py:111: ConvergenceWarning: Iteration limit reached without convergence.\n",
      "  \"Iteration limit reached without convergence.\", ConvergenceWarning\n"
     ]
    }
   ],
   "source": [
    "clr_balanced =cooler.balance_cooler(clr)"
   ]
  },
  {
   "cell_type": "code",
   "execution_count": 13,
   "metadata": {},
   "outputs": [
    {
     "ename": "ValueError",
     "evalue": "No column 'bins/weight'found. Use ``cooler.balance_cooler`` to calculate balancing weights or set balance=False.",
     "output_type": "error",
     "traceback": [
      "\u001b[0;31m---------------------------------------------------------------------------\u001b[0m",
      "\u001b[0;31mValueError\u001b[0m                                Traceback (most recent call last)",
      "\u001b[0;32m<ipython-input-13-705dc3dc0151>\u001b[0m in \u001b[0;36m<module>\u001b[0;34m\u001b[0m\n\u001b[1;32m     31\u001b[0m \u001b[0max\u001b[0m \u001b[0;34m=\u001b[0m \u001b[0maxs\u001b[0m\u001b[0;34m[\u001b[0m\u001b[0;36m1\u001b[0m\u001b[0;34m,\u001b[0m\u001b[0;36m0\u001b[0m\u001b[0;34m]\u001b[0m\u001b[0;34m\u001b[0m\u001b[0;34m\u001b[0m\u001b[0m\n\u001b[1;32m     32\u001b[0m im = ax.matshow(\n\u001b[0;32m---> 33\u001b[0;31m     \u001b[0mclr\u001b[0m\u001b[0;34m.\u001b[0m\u001b[0mmatrix\u001b[0m\u001b[0;34m(\u001b[0m\u001b[0;34m)\u001b[0m\u001b[0;34m[\u001b[0m\u001b[0;34m:\u001b[0m\u001b[0;34m]\u001b[0m\u001b[0;34m,\u001b[0m\u001b[0;34m\u001b[0m\u001b[0;34m\u001b[0m\u001b[0m\n\u001b[0m\u001b[1;32m     34\u001b[0m     \u001b[0mnorm\u001b[0m\u001b[0;34m=\u001b[0m\u001b[0mnorm\u001b[0m\u001b[0;34m,\u001b[0m\u001b[0;34m\u001b[0m\u001b[0;34m\u001b[0m\u001b[0m\n\u001b[1;32m     35\u001b[0m     \u001b[0mcmap\u001b[0m\u001b[0;34m=\u001b[0m\u001b[0;34m'autumn'\u001b[0m\u001b[0;34m,\u001b[0m\u001b[0;34m\u001b[0m\u001b[0;34m\u001b[0m\u001b[0m\n",
      "\u001b[0;32m/global/scratch2/mvazquez/projects/BatGenomeAssembly/.snakemake/conda/4f33ca78/lib/python3.6/site-packages/cooler/core.py\u001b[0m in \u001b[0;36m__getitem__\u001b[0;34m(self, key)\u001b[0m\n\u001b[1;32m    567\u001b[0m         \u001b[0mi0\u001b[0m\u001b[0;34m,\u001b[0m \u001b[0mi1\u001b[0m \u001b[0;34m=\u001b[0m \u001b[0mself\u001b[0m\u001b[0;34m.\u001b[0m\u001b[0m_process_slice\u001b[0m\u001b[0;34m(\u001b[0m\u001b[0ms1\u001b[0m\u001b[0;34m,\u001b[0m \u001b[0mself\u001b[0m\u001b[0;34m.\u001b[0m\u001b[0m_shape\u001b[0m\u001b[0;34m[\u001b[0m\u001b[0;36m0\u001b[0m\u001b[0;34m]\u001b[0m\u001b[0;34m)\u001b[0m\u001b[0;34m\u001b[0m\u001b[0;34m\u001b[0m\u001b[0m\n\u001b[1;32m    568\u001b[0m         \u001b[0mj0\u001b[0m\u001b[0;34m,\u001b[0m \u001b[0mj1\u001b[0m \u001b[0;34m=\u001b[0m \u001b[0mself\u001b[0m\u001b[0;34m.\u001b[0m\u001b[0m_process_slice\u001b[0m\u001b[0;34m(\u001b[0m\u001b[0ms2\u001b[0m\u001b[0;34m,\u001b[0m \u001b[0mself\u001b[0m\u001b[0;34m.\u001b[0m\u001b[0m_shape\u001b[0m\u001b[0;34m[\u001b[0m\u001b[0;36m1\u001b[0m\u001b[0;34m]\u001b[0m\u001b[0;34m)\u001b[0m\u001b[0;34m\u001b[0m\u001b[0;34m\u001b[0m\u001b[0m\n\u001b[0;32m--> 569\u001b[0;31m         \u001b[0;32mreturn\u001b[0m \u001b[0mself\u001b[0m\u001b[0;34m.\u001b[0m\u001b[0m_slice\u001b[0m\u001b[0;34m(\u001b[0m\u001b[0mself\u001b[0m\u001b[0;34m.\u001b[0m\u001b[0mfield\u001b[0m\u001b[0;34m,\u001b[0m \u001b[0mi0\u001b[0m\u001b[0;34m,\u001b[0m \u001b[0mi1\u001b[0m\u001b[0;34m,\u001b[0m \u001b[0mj0\u001b[0m\u001b[0;34m,\u001b[0m \u001b[0mj1\u001b[0m\u001b[0;34m)\u001b[0m\u001b[0;34m\u001b[0m\u001b[0;34m\u001b[0m\u001b[0m\n\u001b[0m\u001b[1;32m    570\u001b[0m \u001b[0;34m\u001b[0m\u001b[0m\n\u001b[1;32m    571\u001b[0m     \u001b[0;32mdef\u001b[0m \u001b[0mfetch\u001b[0m\u001b[0;34m(\u001b[0m\u001b[0mself\u001b[0m\u001b[0;34m,\u001b[0m \u001b[0;34m*\u001b[0m\u001b[0margs\u001b[0m\u001b[0;34m,\u001b[0m \u001b[0;34m**\u001b[0m\u001b[0mkwargs\u001b[0m\u001b[0;34m)\u001b[0m\u001b[0;34m:\u001b[0m\u001b[0;34m\u001b[0m\u001b[0;34m\u001b[0m\u001b[0m\n",
      "\u001b[0;32m/global/scratch2/mvazquez/projects/BatGenomeAssembly/.snakemake/conda/4f33ca78/lib/python3.6/site-packages/cooler/api.py\u001b[0m in \u001b[0;36m_slice\u001b[0;34m(field, i0, i1, j0, j1)\u001b[0m\n\u001b[1;32m    374\u001b[0m                     \u001b[0mdivisive_weights\u001b[0m\u001b[0;34m,\u001b[0m\u001b[0;34m\u001b[0m\u001b[0;34m\u001b[0m\u001b[0m\n\u001b[1;32m    375\u001b[0m                     \u001b[0mmax_chunk\u001b[0m\u001b[0;34m,\u001b[0m\u001b[0;34m\u001b[0m\u001b[0;34m\u001b[0m\u001b[0m\n\u001b[0;32m--> 376\u001b[0;31m                     \u001b[0mself\u001b[0m\u001b[0;34m.\u001b[0m\u001b[0m_is_symm_upper\u001b[0m\u001b[0;34m,\u001b[0m\u001b[0;34m\u001b[0m\u001b[0;34m\u001b[0m\u001b[0m\n\u001b[0m\u001b[1;32m    377\u001b[0m                 )\n\u001b[1;32m    378\u001b[0m \u001b[0;34m\u001b[0m\u001b[0m\n",
      "\u001b[0;32m/global/scratch2/mvazquez/projects/BatGenomeAssembly/.snakemake/conda/4f33ca78/lib/python3.6/site-packages/cooler/api.py\u001b[0m in \u001b[0;36mmatrix\u001b[0;34m(h5, i0, i1, j0, j1, field, balance, sparse, as_pixels, join, ignore_index, divisive_weights, max_chunk, is_upper)\u001b[0m\n\u001b[1;32m    685\u001b[0m             \u001b[0;34m\"No column 'bins/{}'\"\u001b[0m\u001b[0;34m.\u001b[0m\u001b[0mformat\u001b[0m\u001b[0;34m(\u001b[0m\u001b[0mname\u001b[0m\u001b[0;34m)\u001b[0m\u001b[0;34m\u001b[0m\u001b[0;34m\u001b[0m\u001b[0m\n\u001b[1;32m    686\u001b[0m             \u001b[0;34m+\u001b[0m \u001b[0;34m\"found. Use ``cooler.balance_cooler`` to \"\u001b[0m\u001b[0;34m\u001b[0m\u001b[0;34m\u001b[0m\u001b[0m\n\u001b[0;32m--> 687\u001b[0;31m             \u001b[0;34m+\u001b[0m \u001b[0;34m\"calculate balancing weights or set balance=False.\"\u001b[0m\u001b[0;34m\u001b[0m\u001b[0;34m\u001b[0m\u001b[0m\n\u001b[0m\u001b[1;32m    688\u001b[0m         )\n\u001b[1;32m    689\u001b[0m \u001b[0;34m\u001b[0m\u001b[0m\n",
      "\u001b[0;31mValueError\u001b[0m: No column 'bins/weight'found. Use ``cooler.balance_cooler`` to calculate balancing weights or set balance=False."
     ]
    },
    {
     "data": {
      "image/png": "[encoded data removed]",
      "text/plain": [
       "<Figure size 720x648 with 12 Axes>"
      ]
     },
     "metadata": {
      "needs_background": "light"
     },
     "output_type": "display_data"
    }
   ],
   "source": [
    "### plot the raw and corrected data in logscale ###\n",
    "from mpl_toolkits.axes_grid import make_axes_locatable\n",
    "from matplotlib.colors import LogNorm\n",
    "\n",
    "plt_width=4\n",
    "f, axs = plt.subplots(\n",
    "    figsize=( plt_width+plt_width+2, plt_width+plt_width+1),\n",
    "    ncols=4,\n",
    "    nrows=3,\n",
    "    gridspec_kw={'height_ratios':[4,4,1],\"wspace\":0.01,'width_ratios':[1,.05,1,.05]},\n",
    "    constrained_layout=True\n",
    ")\n",
    "\n",
    "norm = LogNorm(vmax=0.1)\n",
    "norm_raw = LogNorm(vmin=1, vmax=10_000)\n",
    "\n",
    "ax = axs[0,0]\n",
    "im = ax.matshow(\n",
    "    clr.matrix(balance=False)[:],\n",
    "    norm=norm_raw,\n",
    "    cmap='autumn',\n",
    "    aspect='auto'\n",
    ");\n",
    "ax.xaxis.set_visible(False)\n",
    "ax.set_title('full matrix')\n",
    "ax.set_ylabel('raw', fontsize=16)\n",
    "\n",
    "cax = axs[0,1]\n",
    "plt.colorbar(im, cax=cax, label='raw counts')\n",
    "\n",
    "ax = axs[1,0]\n",
    "im = ax.matshow(\n",
    "    clr.matrix()[:],\n",
    "    norm=norm,\n",
    "    cmap='autumn',\n",
    ");\n",
    "ax.xaxis.set_visible(False)\n",
    "ax.set_ylabel('balanced', fontsize=16)\n",
    "\n",
    "cax = axs[1,1]\n",
    "plt.colorbar(im, cax=cax, label='corrected freqs')\n",
    "\n",
    "ax1 = axs[2,0]\n",
    "weights = clr.bins()[:]['weight'].values\n",
    "ax1.plot(weights)\n",
    "ax1.set_xlim([0, len(clr.bins()[:])])\n",
    "ax1.set_xlabel('position, bins')\n",
    "\n",
    "ax1 = axs[2,1]\n",
    "ax1.set_visible(False)\n",
    "\n",
    "\n",
    "\n",
    "start = 30_000_000\n",
    "end = 32_000_000\n",
    "region = ('scaffold_1', start, end)\n",
    "\n",
    "ax = axs[0,2]\n",
    "im = ax.matshow(\n",
    "        clr_10kb.matrix(balance=False).fetch(region),\n",
    "    norm=norm_raw,\n",
    "    cmap='autumn'\n",
    ");\n",
    "ax.set_title(f'chr17:{start:,}-{end:,}')\n",
    "ax.xaxis.set_visible(False)\n",
    "\n",
    "cax = axs[0,3]\n",
    "plt.colorbar(im, cax=cax, label='raw counts');\n",
    "\n",
    "ax = axs[1,2]\n",
    "im = ax.matshow(\n",
    "    clr_10kb.matrix().fetch(region),\n",
    "    norm=norm,\n",
    "    cmap='autumn',\n",
    "    extent=(start, end, end, start)\n",
    ");\n",
    "ax.xaxis.set_visible(False)\n",
    "\n",
    "cax = axs[1,3]\n",
    "plt.colorbar(im, cax=cax, label='corrected frequencies');\n",
    "\n",
    "ax1 = axs[2,2]\n",
    "weights = clr_10kb.bins().fetch(region)['weight'].values\n",
    "ax1.plot(\n",
    "    np.linspace(start, end, len(weights)),\n",
    "    weights\n",
    ")\n",
    "format_ticks(ax1, y=False, rotate=False)\n",
    "ax1.set_xlim(start, end);\n",
    "ax1.set_xlabel('scaffold_1 position, bp')\n",
    "\n",
    "ax1 = axs[2,3]\n",
    "ax1.set_visible(False)"
   ]
  },
  {
   "cell_type": "code",
   "execution_count": null,
   "metadata": {},
   "outputs": [],
   "source": [
    "clr.bins()[:3]"
   ]
  },
  {
   "cell_type": "code",
   "execution_count": null,
   "metadata": {},
   "outputs": [],
   "source": [
    "from cooltools.lib.numutils import adaptive_coarsegrain, interp_nan\n",
    "\n",
    "clr_10kb = cooler.Cooler(cool_file + '::resolutions/16000')\n",
    "start = 0\n",
    "end = 35_000_000\n",
    "region = ('scaffold_1', start, end)\n",
    "extents = (start, end, end, start)\n",
    "clr_balanced = cooler.balance_cooler(clr)"
   ]
  },
  {
   "cell_type": "code",
   "execution_count": null,
   "metadata": {},
   "outputs": [],
   "source": [
    "cg = adaptive_coarsegrain(clr_10kb.matrix(balance=True).fetch(region),\n",
    "                              clr_10kb.matrix(balance=False).fetch(region),\n",
    "                              cutoff=3, max_levels=8)\n",
    "\n",
    "cgi = interp_nan(cg)\n",
    "\n",
    "f, axs = plt.subplots(\n",
    "    figsize=(18,5),\n",
    "    nrows=1,\n",
    "    ncols=3,\n",
    "    sharex=True, sharey=True)\n",
    "\n",
    "ax = axs[0]\n",
    "im = ax.matshow(clr_10kb.matrix(balance=True).fetch(region), cmap='autumn', norm=norm, extent=extents)\n",
    "ax.set_title('corrected')\n",
    "\n",
    "ax = axs[1]\n",
    "im2 = ax.matshow(cg, cmap='autumn', norm=norm, extent=extents)\n",
    "ax.set_title(f'adaptively coarsegrained')\n",
    "\n",
    "ax = axs[2]\n",
    "im3 = ax.matshow(cgi, cmap='autumn', norm=norm, extent=extents)\n",
    "ax.set_title(f'interpolated')\n",
    "\n",
    "for ax in axs:\n",
    "    format_ticks(ax, rotate=False)\n",
    "\n",
    "plt.colorbar(im3, ax=axs, fraction=0.046, label='corrected frequencies')\n"
   ]
  },
  {
   "cell_type": "code",
   "execution_count": null,
   "metadata": {},
   "outputs": [],
   "source": []
  },
  {
   "cell_type": "code",
   "execution_count": null,
   "metadata": {},
   "outputs": [],
   "source": []
  }
 ],
 "metadata": {
  "kernelspec": {
   "display_name": "cooler_test",
   "language": "python",
   "name": "cooler_test"
  },
  "language_info": {
   "codemirror_mode": {
    "name": "ipython",
    "version": 3
   },
   "file_extension": ".py",
   "mimetype": "text/x-python",
   "name": "python",
   "nbconvert_exporter": "python",
   "pygments_lexer": "ipython3",
   "version": "3.6.15"
  }
 },
 "nbformat": 4,
 "nbformat_minor": 2
}
